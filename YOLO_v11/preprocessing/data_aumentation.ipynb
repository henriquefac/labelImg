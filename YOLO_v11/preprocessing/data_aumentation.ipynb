{
 "cells": [
  {
   "cell_type": "code",
   "execution_count": 8,
   "id": "71994420",
   "metadata": {},
   "outputs": [],
   "source": [
    "from configPy import Config\n",
    "from pathlib import Path\n",
    "from PIL import Image\n",
    "from src.aux_imgs import *\n",
    "import numpy as np\n",
    "import shutil"
   ]
  },
  {
   "cell_type": "code",
   "execution_count": 9,
   "id": "c1cac9ae",
   "metadata": {},
   "outputs": [],
   "source": [
    "file_dir = Config.get_dir_files()\n",
    "merge_dir_imgs, merge_dir_labels = file_dir[\"merge_dir\"][\"imgs\"], file_dir[\"merge_dir\"][\"labels\"]"
   ]
  },
  {
   "cell_type": "code",
   "execution_count": 10,
   "id": "d3b4173d",
   "metadata": {},
   "outputs": [],
   "source": [
    "# criar diretórios para data aumentation\n",
    "aumentation_dir = file_dir.create_dir(\"aumentation_dir\")\n",
    "img_aum = aumentation_dir.create_dir(\"img_aum\")\n",
    "label_aum = aumentation_dir.create_dir(\"label_aum\")"
   ]
  },
  {
   "cell_type": "code",
   "execution_count": 11,
   "id": "b4a519b7",
   "metadata": {},
   "outputs": [],
   "source": [
    "# criar lista de tuplas para imagens e labels\n",
    "list_img = list(merge_dir_imgs.list_files().values())\n",
    "list_tuples_img_labels = [(img_path, merge_dir_labels.by_name(img_path.stem)[0])for img_path in list_img]"
   ]
  },
  {
   "cell_type": "code",
   "execution_count": 12,
   "id": "198e1392",
   "metadata": {},
   "outputs": [
    {
     "name": "stdout",
     "output_type": "stream",
     "text": [
      "[(PosixPath('/home/henrique/Documents/projects/teste/tratar_dados_av3/files/merge_dir/imgs/20.jpg'), PosixPath('/home/henrique/Documents/projects/teste/tratar_dados_av3/files/merge_dir/labels/20.txt')), (PosixPath('/home/henrique/Documents/projects/teste/tratar_dados_av3/files/merge_dir/imgs/1.jpg'), PosixPath('/home/henrique/Documents/projects/teste/tratar_dados_av3/files/merge_dir/labels/1.txt')), (PosixPath('/home/henrique/Documents/projects/teste/tratar_dados_av3/files/merge_dir/imgs/44.jpg'), PosixPath('/home/henrique/Documents/projects/teste/tratar_dados_av3/files/merge_dir/labels/44.txt')), (PosixPath('/home/henrique/Documents/projects/teste/tratar_dados_av3/files/merge_dir/imgs/40.jpg'), PosixPath('/home/henrique/Documents/projects/teste/tratar_dados_av3/files/merge_dir/labels/40.txt')), (PosixPath('/home/henrique/Documents/projects/teste/tratar_dados_av3/files/merge_dir/imgs/36.jpg'), PosixPath('/home/henrique/Documents/projects/teste/tratar_dados_av3/files/merge_dir/labels/36.txt')), (PosixPath('/home/henrique/Documents/projects/teste/tratar_dados_av3/files/merge_dir/imgs/8.jpg'), PosixPath('/home/henrique/Documents/projects/teste/tratar_dados_av3/files/merge_dir/labels/8.txt')), (PosixPath('/home/henrique/Documents/projects/teste/tratar_dados_av3/files/merge_dir/imgs/22.jpg'), PosixPath('/home/henrique/Documents/projects/teste/tratar_dados_av3/files/merge_dir/labels/22.txt')), (PosixPath('/home/henrique/Documents/projects/teste/tratar_dados_av3/files/merge_dir/imgs/16.jpg'), PosixPath('/home/henrique/Documents/projects/teste/tratar_dados_av3/files/merge_dir/labels/16.txt')), (PosixPath('/home/henrique/Documents/projects/teste/tratar_dados_av3/files/merge_dir/imgs/47.jpg'), PosixPath('/home/henrique/Documents/projects/teste/tratar_dados_av3/files/merge_dir/labels/47.txt')), (PosixPath('/home/henrique/Documents/projects/teste/tratar_dados_av3/files/merge_dir/imgs/9.jpg'), PosixPath('/home/henrique/Documents/projects/teste/tratar_dados_av3/files/merge_dir/labels/9.txt')), (PosixPath('/home/henrique/Documents/projects/teste/tratar_dados_av3/files/merge_dir/imgs/32.jpg'), PosixPath('/home/henrique/Documents/projects/teste/tratar_dados_av3/files/merge_dir/labels/32.txt')), (PosixPath('/home/henrique/Documents/projects/teste/tratar_dados_av3/files/merge_dir/imgs/45.png'), PosixPath('/home/henrique/Documents/projects/teste/tratar_dados_av3/files/merge_dir/labels/45.txt')), (PosixPath('/home/henrique/Documents/projects/teste/tratar_dados_av3/files/merge_dir/imgs/4.jpg'), PosixPath('/home/henrique/Documents/projects/teste/tratar_dados_av3/files/merge_dir/labels/4.txt')), (PosixPath('/home/henrique/Documents/projects/teste/tratar_dados_av3/files/merge_dir/imgs/33.jpg'), PosixPath('/home/henrique/Documents/projects/teste/tratar_dados_av3/files/merge_dir/labels/33.txt')), (PosixPath('/home/henrique/Documents/projects/teste/tratar_dados_av3/files/merge_dir/imgs/29.jpg'), PosixPath('/home/henrique/Documents/projects/teste/tratar_dados_av3/files/merge_dir/labels/29.txt')), (PosixPath('/home/henrique/Documents/projects/teste/tratar_dados_av3/files/merge_dir/imgs/19.jpg'), PosixPath('/home/henrique/Documents/projects/teste/tratar_dados_av3/files/merge_dir/labels/19.txt')), (PosixPath('/home/henrique/Documents/projects/teste/tratar_dados_av3/files/merge_dir/imgs/14.jpg'), PosixPath('/home/henrique/Documents/projects/teste/tratar_dados_av3/files/merge_dir/labels/14.txt')), (PosixPath('/home/henrique/Documents/projects/teste/tratar_dados_av3/files/merge_dir/imgs/6.jpg'), PosixPath('/home/henrique/Documents/projects/teste/tratar_dados_av3/files/merge_dir/labels/6.txt')), (PosixPath('/home/henrique/Documents/projects/teste/tratar_dados_av3/files/merge_dir/imgs/21.jpg'), PosixPath('/home/henrique/Documents/projects/teste/tratar_dados_av3/files/merge_dir/labels/21.txt')), (PosixPath('/home/henrique/Documents/projects/teste/tratar_dados_av3/files/merge_dir/imgs/3.jpg'), PosixPath('/home/henrique/Documents/projects/teste/tratar_dados_av3/files/merge_dir/labels/3.txt')), (PosixPath('/home/henrique/Documents/projects/teste/tratar_dados_av3/files/merge_dir/imgs/42.jpg'), PosixPath('/home/henrique/Documents/projects/teste/tratar_dados_av3/files/merge_dir/labels/42.txt')), (PosixPath('/home/henrique/Documents/projects/teste/tratar_dados_av3/files/merge_dir/imgs/28.jpg'), PosixPath('/home/henrique/Documents/projects/teste/tratar_dados_av3/files/merge_dir/labels/28.txt')), (PosixPath('/home/henrique/Documents/projects/teste/tratar_dados_av3/files/merge_dir/imgs/25.jpg'), PosixPath('/home/henrique/Documents/projects/teste/tratar_dados_av3/files/merge_dir/labels/25.txt')), (PosixPath('/home/henrique/Documents/projects/teste/tratar_dados_av3/files/merge_dir/imgs/35.jpg'), PosixPath('/home/henrique/Documents/projects/teste/tratar_dados_av3/files/merge_dir/labels/35.txt')), (PosixPath('/home/henrique/Documents/projects/teste/tratar_dados_av3/files/merge_dir/imgs/27.jpg'), PosixPath('/home/henrique/Documents/projects/teste/tratar_dados_av3/files/merge_dir/labels/27.txt')), (PosixPath('/home/henrique/Documents/projects/teste/tratar_dados_av3/files/merge_dir/imgs/13.jpg'), PosixPath('/home/henrique/Documents/projects/teste/tratar_dados_av3/files/merge_dir/labels/13.txt')), (PosixPath('/home/henrique/Documents/projects/teste/tratar_dados_av3/files/merge_dir/imgs/5.jpg'), PosixPath('/home/henrique/Documents/projects/teste/tratar_dados_av3/files/merge_dir/labels/5.txt')), (PosixPath('/home/henrique/Documents/projects/teste/tratar_dados_av3/files/merge_dir/imgs/24.jpg'), PosixPath('/home/henrique/Documents/projects/teste/tratar_dados_av3/files/merge_dir/labels/24.txt')), (PosixPath('/home/henrique/Documents/projects/teste/tratar_dados_av3/files/merge_dir/imgs/48.jpg'), PosixPath('/home/henrique/Documents/projects/teste/tratar_dados_av3/files/merge_dir/labels/48.txt')), (PosixPath('/home/henrique/Documents/projects/teste/tratar_dados_av3/files/merge_dir/imgs/18.jpg'), PosixPath('/home/henrique/Documents/projects/teste/tratar_dados_av3/files/merge_dir/labels/18.txt')), (PosixPath('/home/henrique/Documents/projects/teste/tratar_dados_av3/files/merge_dir/imgs/2.jpg'), PosixPath('/home/henrique/Documents/projects/teste/tratar_dados_av3/files/merge_dir/labels/2.txt')), (PosixPath('/home/henrique/Documents/projects/teste/tratar_dados_av3/files/merge_dir/imgs/43.jpg'), PosixPath('/home/henrique/Documents/projects/teste/tratar_dados_av3/files/merge_dir/labels/43.txt')), (PosixPath('/home/henrique/Documents/projects/teste/tratar_dados_av3/files/merge_dir/imgs/17.jpg'), PosixPath('/home/henrique/Documents/projects/teste/tratar_dados_av3/files/merge_dir/labels/17.txt')), (PosixPath('/home/henrique/Documents/projects/teste/tratar_dados_av3/files/merge_dir/imgs/46.png'), PosixPath('/home/henrique/Documents/projects/teste/tratar_dados_av3/files/merge_dir/labels/46.txt')), (PosixPath('/home/henrique/Documents/projects/teste/tratar_dados_av3/files/merge_dir/imgs/37.jpg'), PosixPath('/home/henrique/Documents/projects/teste/tratar_dados_av3/files/merge_dir/labels/37.txt')), (PosixPath('/home/henrique/Documents/projects/teste/tratar_dados_av3/files/merge_dir/imgs/23.jpg'), PosixPath('/home/henrique/Documents/projects/teste/tratar_dados_av3/files/merge_dir/labels/23.txt')), (PosixPath('/home/henrique/Documents/projects/teste/tratar_dados_av3/files/merge_dir/imgs/10.jpg'), PosixPath('/home/henrique/Documents/projects/teste/tratar_dados_av3/files/merge_dir/labels/10.txt')), (PosixPath('/home/henrique/Documents/projects/teste/tratar_dados_av3/files/merge_dir/imgs/39.jpg'), PosixPath('/home/henrique/Documents/projects/teste/tratar_dados_av3/files/merge_dir/labels/39.txt')), (PosixPath('/home/henrique/Documents/projects/teste/tratar_dados_av3/files/merge_dir/imgs/26.jpg'), PosixPath('/home/henrique/Documents/projects/teste/tratar_dados_av3/files/merge_dir/labels/26.txt')), (PosixPath('/home/henrique/Documents/projects/teste/tratar_dados_av3/files/merge_dir/imgs/38.jpg'), PosixPath('/home/henrique/Documents/projects/teste/tratar_dados_av3/files/merge_dir/labels/38.txt')), (PosixPath('/home/henrique/Documents/projects/teste/tratar_dados_av3/files/merge_dir/imgs/30.jpg'), PosixPath('/home/henrique/Documents/projects/teste/tratar_dados_av3/files/merge_dir/labels/30.txt')), (PosixPath('/home/henrique/Documents/projects/teste/tratar_dados_av3/files/merge_dir/imgs/34.jpg'), PosixPath('/home/henrique/Documents/projects/teste/tratar_dados_av3/files/merge_dir/labels/34.txt')), (PosixPath('/home/henrique/Documents/projects/teste/tratar_dados_av3/files/merge_dir/imgs/15.jpg'), PosixPath('/home/henrique/Documents/projects/teste/tratar_dados_av3/files/merge_dir/labels/15.txt')), (PosixPath('/home/henrique/Documents/projects/teste/tratar_dados_av3/files/merge_dir/imgs/7.jpg'), PosixPath('/home/henrique/Documents/projects/teste/tratar_dados_av3/files/merge_dir/labels/7.txt')), (PosixPath('/home/henrique/Documents/projects/teste/tratar_dados_av3/files/merge_dir/imgs/12.jpg'), PosixPath('/home/henrique/Documents/projects/teste/tratar_dados_av3/files/merge_dir/labels/12.txt')), (PosixPath('/home/henrique/Documents/projects/teste/tratar_dados_av3/files/merge_dir/imgs/41.jpg'), PosixPath('/home/henrique/Documents/projects/teste/tratar_dados_av3/files/merge_dir/labels/41.txt')), (PosixPath('/home/henrique/Documents/projects/teste/tratar_dados_av3/files/merge_dir/imgs/31.jpg'), PosixPath('/home/henrique/Documents/projects/teste/tratar_dados_av3/files/merge_dir/labels/31.txt')), (PosixPath('/home/henrique/Documents/projects/teste/tratar_dados_av3/files/merge_dir/imgs/11.jpg'), PosixPath('/home/henrique/Documents/projects/teste/tratar_dados_av3/files/merge_dir/labels/11.txt'))]\n"
     ]
    }
   ],
   "source": [
    "print(list_tuples_img_labels)"
   ]
  },
  {
   "cell_type": "code",
   "execution_count": 14,
   "id": "74588c19",
   "metadata": {},
   "outputs": [
    {
     "name": "stderr",
     "output_type": "stream",
     "text": [
      "libpng warning: cHRM: inconsistent chromaticities\n"
     ]
    }
   ],
   "source": [
    "for i, tuple_img_label in enumerate(list_tuples_img_labels):\n",
    "    img, label = tuple_img_label\n",
    "\n",
    "    imgLabel_obj = ImageWithAnnotations(img, label)\n",
    "\n",
    "    # mutacoes\n",
    "    vflip_mutation = imgLabel_obj.flip_vertical()\n",
    "    hflip_mutation = imgLabel_obj.flip_horizontal()\n",
    "\n",
    "    # rotcoes\n",
    "    mutations = [imgLabel_obj.rotate(angle) for angle in [0, 90, 180, 270]]\n",
    "\n",
    "    mutations.extend([vflip_mutation, hflip_mutation])\n",
    "\n",
    "    for mutation in mutations:\n",
    "        mutation.save_new_crop(img_aum.dir_path, label_aum.dir_path)\n"
   ]
  },
  {
   "cell_type": "code",
   "execution_count": null,
   "id": "ea699cce",
   "metadata": {},
   "outputs": [],
   "source": []
  }
 ],
 "metadata": {
  "kernelspec": {
   "display_name": ".venv",
   "language": "python",
   "name": "python3"
  },
  "language_info": {
   "codemirror_mode": {
    "name": "ipython",
    "version": 3
   },
   "file_extension": ".py",
   "mimetype": "text/x-python",
   "name": "python",
   "nbconvert_exporter": "python",
   "pygments_lexer": "ipython3",
   "version": "3.12.3"
  }
 },
 "nbformat": 4,
 "nbformat_minor": 5
}
