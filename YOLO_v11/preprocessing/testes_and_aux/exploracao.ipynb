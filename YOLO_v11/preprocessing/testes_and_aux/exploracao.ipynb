{
 "cells": [
  {
   "cell_type": "code",
   "execution_count": 68,
   "id": "a640aade",
   "metadata": {},
   "outputs": [],
   "source": [
    "from configPy import Config\n",
    "from pathlib import Path\n",
    "from PIL import Image\n",
    "from src.aux_imgs import get_resolution, get_resolution_folder\n",
    "import numpy as np"
   ]
  },
  {
   "cell_type": "code",
   "execution_count": 2,
   "id": "3b0f5ab4",
   "metadata": {},
   "outputs": [
    {
     "name": "stdout",
     "output_type": "stream",
     "text": [
      "/home/henrique/Documents/projects/teste/tratar_dados_av3/files\n"
     ]
    }
   ],
   "source": [
    "files_dir = Config.get_dir_files()\n",
    "print(files_dir)"
   ]
  },
  {
   "cell_type": "code",
   "execution_count": 3,
   "id": "fb4f54a5",
   "metadata": {},
   "outputs": [],
   "source": [
    "imgs_dir = files_dir[\"imgs\"]\n",
    "data_label_dir = files_dir[\"data_label\"]"
   ]
  },
  {
   "cell_type": "code",
   "execution_count": 4,
   "id": "cdf01781",
   "metadata": {},
   "outputs": [
    {
     "name": "stdout",
     "output_type": "stream",
     "text": [
      "[PosixPath('/home/henrique/Documents/projects/teste/tratar_dados_av3/files/data/imgs/1.jpg'), PosixPath('/home/henrique/Documents/projects/teste/tratar_dados_av3/files/data/imgs/8.jpg'), PosixPath('/home/henrique/Documents/projects/teste/tratar_dados_av3/files/data/imgs/16.jpg'), PosixPath('/home/henrique/Documents/projects/teste/tratar_dados_av3/files/data/imgs/9.jpg'), PosixPath('/home/henrique/Documents/projects/teste/tratar_dados_av3/files/data/imgs/4.jpg')]\n",
      "[PosixPath('/home/henrique/Documents/projects/teste/tratar_dados_av3/files/data/data_label/11.txt'), PosixPath('/home/henrique/Documents/projects/teste/tratar_dados_av3/files/data/data_label/12.txt'), PosixPath('/home/henrique/Documents/projects/teste/tratar_dados_av3/files/data/data_label/9.txt'), PosixPath('/home/henrique/Documents/projects/teste/tratar_dados_av3/files/data/data_label/18.txt'), PosixPath('/home/henrique/Documents/projects/teste/tratar_dados_av3/files/data/data_label/15.txt')]\n"
     ]
    }
   ],
   "source": [
    "imagens = list(imgs_dir.list_files().values())\n",
    "print(imagens[:5])\n",
    "labels = list(data_label_dir.list_files().values())\n",
    "print(labels[:5])"
   ]
  },
  {
   "cell_type": "markdown",
   "id": "a967fc40",
   "metadata": {},
   "source": [
    "## Funções"
   ]
  },
  {
   "cell_type": "code",
   "execution_count": null,
   "id": "86e8c9a6",
   "metadata": {},
   "outputs": [],
   "source": [
    "# renomear arquivos de label\n",
    "def rename_file(file: Path):\n",
    "    origin_name = file.name\n",
    "    if 'xml' not in origin_name:\n",
    "        return\n",
    "    new_name = \".\".join([element for element in origin_name.split(\".\") if element != \"xml\"])\n",
    "    new_name_path = file.parent / new_name\n",
    "    file.rename(new_name_path)"
   ]
  },
  {
   "cell_type": "code",
   "execution_count": 5,
   "id": "e9aafe85",
   "metadata": {},
   "outputs": [],
   "source": [
    "# funcao improvisada para pegar o par de imagem e seu label\n",
    "def get_pair(num: int):\n",
    "    return f\"{num}.jpg\", f\"{num}.txt\""
   ]
  },
  {
   "cell_type": "code",
   "execution_count": 17,
   "id": "38319fa5",
   "metadata": {},
   "outputs": [],
   "source": [
    "# partir do path, pegar label\n",
    "def get_label(label: Path):\n",
    "    with open(label, \"r\") as f:\n",
    "        linhas = f.readlines()\n",
    "    labels = []\n",
    "    for line in linhas:\n",
    "        line = line.split(\" \")\n",
    "        labels.append({\"x\":float(line[1]),\"y\":float(line[2]), \"w\":float(line[3]), \"h\":float(line[4])})\n",
    "    return labels\n"
   ]
  },
  {
   "cell_type": "markdown",
   "id": "95aadcf3",
   "metadata": {},
   "source": [
    "## Coisas"
   ]
  },
  {
   "cell_type": "code",
   "execution_count": 6,
   "id": "e12f1ef4",
   "metadata": {},
   "outputs": [],
   "source": [
    "img, label = get_pair(10)\n",
    "img_path = imgs_dir[img]\n",
    "label_path = data_label_dir[label]"
   ]
  },
  {
   "cell_type": "code",
   "execution_count": 18,
   "id": "fe916570",
   "metadata": {},
   "outputs": [
    {
     "name": "stdout",
     "output_type": "stream",
     "text": [
      "1600 980\n",
      "[{'x': 0.285, 'y': 0.120408, 'w': 0.0425, 'h': 0.081633}, {'x': 0.454062, 'y': 0.176531, 'w': 0.013125, 'h': 0.036735}]\n"
     ]
    }
   ],
   "source": [
    "w, h = get_resolution(img_path)\n",
    "label = get_label(label_path)\n",
    "print(w, h)\n",
    "print(label)"
   ]
  },
  {
   "cell_type": "code",
   "execution_count": 44,
   "id": "2623caf2",
   "metadata": {},
   "outputs": [],
   "source": [
    "# associar cada imagem as suas lables e dimençõs\n",
    "\n",
    "data_ = {}\n",
    "\n",
    "for i in range(1, 20):\n",
    "    img, label = get_pair(i)\n",
    "    # dimencoes da imagem\n",
    "    dim = get_resolution(imgs_dir[img])\n",
    "    data_[i] = (dim, get_label(data_label_dir[label]))"
   ]
  },
  {
   "cell_type": "code",
   "execution_count": 50,
   "id": "c70a518d",
   "metadata": {},
   "outputs": [],
   "source": [
    "# média de proporção entre a janela e a imagem\n",
    "mean_w_window = mean_h_window = 0\n",
    "qunt_window = 0\n",
    "\n",
    "mean_h = mean_w = 0\n",
    "qunt = 0\n",
    "for key, value in data_.items():\n",
    "    img_size, list_dict_window = value\n",
    "\n",
    "    mean_w += img_size[0]\n",
    "    mean_h += img_size[1]\n",
    "    qunt += 1\n",
    "    for dict_window in list_dict_window:\n",
    "        mean_w_window += dict_window['w']\n",
    "        mean_h_window += dict_window['h']\n",
    "        qunt_window += 1\n",
    "mean_w_window, mean_h_window = mean_w_window/ qunt_window, mean_h_window/ qunt_window\n",
    "mean_w, mean_h = mean_w/ qunt, mean_h/ qunt "
   ]
  },
  {
   "cell_type": "code",
   "execution_count": 52,
   "id": "2e319ba8",
   "metadata": {},
   "outputs": [
    {
     "name": "stdout",
     "output_type": "stream",
     "text": [
      "Media das imgs (tamanho real):  1845.3684210526317 1328.0\n",
      "Media das janelas :  0.027447772727272727 0.05298099999999999\n"
     ]
    }
   ],
   "source": [
    "print(\"Media das imgs (tamanho real): \",mean_w, mean_h)\n",
    "print(\"Media das janelas : \", mean_w_window, mean_h_window)"
   ]
  },
  {
   "cell_type": "code",
   "execution_count": 42,
   "id": "9d193c87",
   "metadata": {},
   "outputs": [],
   "source": [
    "# trazer as janelas para as proporções certas\n",
    "\n",
    "data_prop = {}\n",
    "\n",
    "for i in range(1, len(data_) + 1):\n",
    "\n",
    "    w, h = data_[i][0]\n",
    "    list_dict_window = data_[i][1]\n",
    "    new_list = []\n",
    "    for dict_window in list_dict_window:\n",
    "        new_dict = {}\n",
    "        new_dict['x'] = dict_window['x']*w\n",
    "        \n",
    "        new_dict['y'] = dict_window['y']*h\n",
    "\n",
    "        new_dict['w'] = dict_window['w']*w\n",
    "\n",
    "        new_dict['h'] = dict_window['h']*h\n",
    "        new_list.append(new_dict)\n",
    "    data_prop[i] = ((w, h), new_list)\n",
    "    "
   ]
  },
  {
   "cell_type": "code",
   "execution_count": 54,
   "id": "57539d75",
   "metadata": {},
   "outputs": [],
   "source": [
    "# achar proporção entre tamanho da janela e imagem\n",
    "\n",
    "# média de proporção entre a janela e a imagem\n",
    "# média de proporção entre a janela e a imagem\n",
    "mean_w_window = mean_h_window = 0\n",
    "qunt_window = 0\n",
    "\n",
    "mean_h = mean_w = 0\n",
    "qunt = 0\n",
    "for key, value in data_prop.items():\n",
    "    img_size, list_dict_window = value\n",
    "\n",
    "    mean_w += img_size[0]\n",
    "    mean_h += img_size[1]\n",
    "    qunt += 1\n",
    "    for dict_window in list_dict_window:\n",
    "        mean_w_window += dict_window['w']\n",
    "        mean_h_window += dict_window['h']\n",
    "        qunt_window += 1\n",
    "mean_w_window, mean_h_window = mean_w_window/ qunt_window, mean_h_window/ qunt_window\n",
    "mean_w, mean_h = mean_w/ qunt, mean_h/ qunt "
   ]
  },
  {
   "cell_type": "code",
   "execution_count": 55,
   "id": "5eb3d16c",
   "metadata": {},
   "outputs": [
    {
     "name": "stdout",
     "output_type": "stream",
     "text": [
      "Media das imgs (tamanho real):  1845.3684210526317 1328.0\n",
      "Media das janelas :  51.045349045454536 71.95452159090908\n"
     ]
    }
   ],
   "source": [
    "print(\"Media das imgs (tamanho real): \",mean_w, mean_h)\n",
    "print(\"Media das janelas : \", mean_w_window, mean_h_window)"
   ]
  },
  {
   "cell_type": "code",
   "execution_count": 60,
   "id": "042e01ff",
   "metadata": {},
   "outputs": [],
   "source": [
    "# lista das caixas\n",
    "\n",
    "lista_caixas = []\n",
    "\n",
    "for value in data_prop.values():\n",
    "    _, list_dict_window = value\n",
    "\n",
    "    for dict_window in list_dict_window:\n",
    "        lista_caixas.append((dict_window[\"w\"], dict_window[\"h\"]))"
   ]
  },
  {
   "cell_type": "code",
   "execution_count": 61,
   "id": "7034a795",
   "metadata": {},
   "outputs": [],
   "source": [
    "for i in range(len(lista_caixas)):\n",
    "    lista_caixas[i] = lista_caixas[i][0] * lista_caixas[i][1]"
   ]
  },
  {
   "cell_type": "code",
   "execution_count": 66,
   "id": "ddcc411f",
   "metadata": {},
   "outputs": [],
   "source": [
    "list_sizes = [128**2, 256**2, 512**2, 1024**2]"
   ]
  },
  {
   "cell_type": "code",
   "execution_count": 70,
   "id": "e6d5ebf7",
   "metadata": {},
   "outputs": [
    {
     "name": "stdout",
     "output_type": "stream",
     "text": [
      "para a área 16384: 0.26454266365908824\n",
      "para a área 65536: 0.06613566591477206\n",
      "para a área 262144: 0.016533916478693015\n",
      "para a área 1048576: 0.004133479119673254\n"
     ]
    }
   ],
   "source": [
    "for num in list_sizes:\n",
    "    print(f\"para a área {num}: {np.mean(lista_caixas)/num}\")"
   ]
  }
 ],
 "metadata": {
  "kernelspec": {
   "display_name": ".venv",
   "language": "python",
   "name": "python3"
  },
  "language_info": {
   "codemirror_mode": {
    "name": "ipython",
    "version": 3
   },
   "file_extension": ".py",
   "mimetype": "text/x-python",
   "name": "python",
   "nbconvert_exporter": "python",
   "pygments_lexer": "ipython3",
   "version": "3.12.3"
  }
 },
 "nbformat": 4,
 "nbformat_minor": 5
}
