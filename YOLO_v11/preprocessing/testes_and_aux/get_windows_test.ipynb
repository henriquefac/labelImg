{
 "cells": [
  {
   "cell_type": "code",
   "execution_count": 11,
   "id": "6c1ec779",
   "metadata": {},
   "outputs": [],
   "source": [
    "from configPy import Config\n",
    "from pathlib import Path\n",
    "from PIL import Image\n",
    "from src.aux_imgs import *\n",
    "import numpy as np"
   ]
  },
  {
   "cell_type": "code",
   "execution_count": 12,
   "id": "96757e0f",
   "metadata": {},
   "outputs": [],
   "source": [
    "# diretório dos arquivos\n",
    "file_dir = Config.get_dir_files()\n",
    "img_dir = file_dir[\"data\"][\"imgs\"]\n",
    "label_dir = file_dir[\"data\"][\"data_label\"]\n",
    "\n",
    "# dir dos recortes\n",
    "crop_dir = file_dir[\"data\"][\"crop\"]"
   ]
  },
  {
   "cell_type": "code",
   "execution_count": 13,
   "id": "d9501cdf",
   "metadata": {},
   "outputs": [],
   "source": [
    "# testar para imagem 8\n",
    "# dir's\n",
    "img_crop_dir = crop_dir.create_dir(\"img_crop_dir\")\n",
    "label_crop_dir = crop_dir.create_dir(\"label_crop_dir\")"
   ]
  },
  {
   "cell_type": "code",
   "execution_count": 14,
   "id": "93123e68",
   "metadata": {},
   "outputs": [],
   "source": [
    "# imagem e label da imagem 8\n",
    "img_8 = img_dir[\"8.jpg\"]\n",
    "img_label_8 = label_dir[\"8.txt\"]"
   ]
  },
  {
   "cell_type": "code",
   "execution_count": 15,
   "id": "867bf05c",
   "metadata": {},
   "outputs": [
    {
     "name": "stdout",
     "output_type": "stream",
     "text": [
      "/home/henrique/Documents/projects/teste/tratar_dados_av3/files/data/imgs/8.jpg\n",
      "/home/henrique/Documents/projects/teste/tratar_dados_av3/files/data/data_label/8.txt\n"
     ]
    }
   ],
   "source": [
    "print(img_8)\n",
    "print(img_label_8)"
   ]
  },
  {
   "cell_type": "code",
   "execution_count": 16,
   "id": "7c619e56",
   "metadata": {},
   "outputs": [],
   "source": [
    "# criar diretório para separar os recortes de cada imagem\n",
    "\n",
    "img_crop_8 = img_crop_dir.create_dir(\"img_crop_8\")\n",
    "label_crop_8 = label_crop_dir.create_dir(\"label_crop_8\")\n",
    "\n",
    "# diretório para imagens de background\n",
    "background_crop = img_crop_dir.create_dir(\"background_crop\")\n"
   ]
  },
  {
   "cell_type": "code",
   "execution_count": 17,
   "id": "4602aa14",
   "metadata": {},
   "outputs": [],
   "source": [
    "# criar objeto da imagem 8\n",
    "img_8_obj = ImageWithAnnotations(img_8, img_label_8)"
   ]
  },
  {
   "cell_type": "code",
   "execution_count": 18,
   "id": "3d091340",
   "metadata": {},
   "outputs": [
    {
     "name": "stdout",
     "output_type": "stream",
     "text": [
      "ImageWithAnnotations(name='8.jpg', res=2800x1760, num_bboxes=2)\n"
     ]
    }
   ],
   "source": [
    "print(img_8_obj)"
   ]
  },
  {
   "cell_type": "code",
   "execution_count": 19,
   "id": "be967a2b",
   "metadata": {},
   "outputs": [
    {
     "name": "stdout",
     "output_type": "stream",
     "text": [
      "BBox(class_id=15, x_c=0.24, y_c=0.11, w=0.04, h=0.08, img_ref=8.jpg)\n",
      "BBox(class_id=15, x_c=0.42, y_c=0.19, w=0.02, h=0.05, img_ref=8.jpg)\n"
     ]
    }
   ],
   "source": [
    "for bbox in img_8_obj.bboxes:\n",
    "    print(bbox)"
   ]
  },
  {
   "cell_type": "code",
   "execution_count": 20,
   "id": "266ca742",
   "metadata": {},
   "outputs": [
    {
     "name": "stdout",
     "output_type": "stream",
     "text": [
      "  Gerados 273 recortes para '8.jpg'.\n"
     ]
    }
   ],
   "source": [
    "count = img_8_obj.crop_with_sliding_window(\n",
    "    img_crop_8,\n",
    "    label_crop_8,\n",
    "    background_crop\n",
    ")"
   ]
  }
 ],
 "metadata": {
  "kernelspec": {
   "display_name": ".venv",
   "language": "python",
   "name": "python3"
  },
  "language_info": {
   "codemirror_mode": {
    "name": "ipython",
    "version": 3
   },
   "file_extension": ".py",
   "mimetype": "text/x-python",
   "name": "python",
   "nbconvert_exporter": "python",
   "pygments_lexer": "ipython3",
   "version": "3.12.3"
  }
 },
 "nbformat": 4,
 "nbformat_minor": 5
}
