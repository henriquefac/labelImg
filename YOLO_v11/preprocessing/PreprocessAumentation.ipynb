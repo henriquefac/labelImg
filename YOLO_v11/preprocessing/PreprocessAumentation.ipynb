{
 "cells": [
  {
   "cell_type": "markdown",
   "id": "1c43a3f7",
   "metadata": {},
   "source": [
    "## Pré-processamento e Data Aumentation"
   ]
  },
  {
   "cell_type": "markdown",
   "id": "144376f1",
   "metadata": {},
   "source": [
    "Nesta seção, vamos detalhar o processo de pré-processamento e aumento de dados, que tratamos de forma integrada. Diversas etapas foram realizadas para construir o conjunto de dados final, e cada uma delas será explicada a seguir.\n",
    "\n",
    "Partimos de um conjunto amplo de imagens coletadas a partir de diferentes fontes online. Após filtragem e curadoria, selecionamos um total de 48 imagens para compor o dataset final."
   ]
  },
  {
   "cell_type": "markdown",
   "id": "605cbd62",
   "metadata": {},
   "source": [
    "### Filtragem"
   ]
  },
  {
   "cell_type": "markdown",
   "id": "9e22f56b",
   "metadata": {},
   "source": [
    "Durante esse processo, aplicamos os seguintes critérios para descartar imagens inadequadas:\n",
    "\n",
    "Qualidade da imagem\n",
    "Algumas imagens apresentavam baixa resolução, o que compromete diretamente o desempenho do modelo. Além disso, após aplicação de técnicas de aumento de dados, essas imagens degradavam ainda mais. Por isso, foram descartadas.\n",
    "\n",
    "Disponibilidade de rótulos (labels)\n",
    "Em certos casos, não conseguimos localizar o personagem Waldo na imagem — seja por ausência real ou por limitações visuais. Como o modelo precisa das coordenadas exatas para aprender, essas imagens também foram removidas do conjunto.\n",
    "\n",
    "Complexidade visual excessiva\n",
    "Algumas ilustrações apresentavam um nível de complexidade tão alto que se tornariam um ruído mais prejudicial que útil para o treinamento. Imagens com excesso de elementos visuais podem comprometer a capacidade do modelo de focar no objeto-alvo.\n",
    "\n",
    "A seguir, um exemplo de imagem que foi descartada por conter complexidade visual extrema:\n",
    "\n",
    "<p align=\"center\"> <img src=\"1.jpg\" width=\"800\"> </p>"
   ]
  },
  {
   "cell_type": "markdown",
   "id": "d39dad7e",
   "metadata": {},
   "source": [
    "### Data aumentation"
   ]
  },
  {
   "cell_type": "markdown",
   "id": "d50bd773",
   "metadata": {},
   "source": [
    "Para alcançar uma quantidade satisfatória de dados e melhorar a capacidade de generalização do modelo, aplicamos técnicas de aumento de dados sobre o conjunto de imagens selecionadas.\n",
    "\n",
    "Essas transformações foram aplicadas a todas as imagens com anotações válidas, resultando em variações artificiais que preservam o conteúdo semântico, mas apresentam diferentes orientações e simetrias — o que ajuda o modelo a aprender padrões mais robustos.\n",
    "\n",
    "Técnicas aplicadas:\n",
    "- Rotação de 90°\n",
    "\n",
    "- Rotação de 180°\n",
    "\n",
    "-  Rotação de 270°\n",
    "\n",
    "- Espelhamento horizontal\n",
    "\n",
    "- Espelhamento vertical\n",
    "\n",
    "Essas transformações aumentaram significativamente o tamanho do nosso dataset, multiplicando a quantidade de exemplos sem a necessidade de novas imagens reais.\n",
    "\n",
    "Além disso, como as transformações preservam a posição relativa das anotações (bounding boxes), o processo é altamente eficaz para problemas de detecção de objetos como o nosso."
   ]
  },
  {
   "cell_type": "markdown",
   "id": "5179ed51",
   "metadata": {},
   "source": [
    "### RecorteGeração de Amostras por Recorte (Crop Sliding Window)"
   ]
  },
  {
   "cell_type": "markdown",
   "id": "28d599b3",
   "metadata": {},
   "source": [
    "Com o objetivo de aumentar ainda mais a quantidade de dados e melhorar a resolução das amostras de treino, aplicamos uma técnica de recorte em janelas deslizantes (sliding window) sobre as imagens completas.\n",
    "\n",
    "Cada imagem foi dividida em janelas de 256×256 pixels, com uma sobreposição de 50% entre janelas consecutivas. Essa estratégia nos permitiu:\n",
    "\n",
    "- Gerar diversas amostras menores a partir de cada imagem.\n",
    "\n",
    "- Aumentar a diversidade espacial do dataset.\n",
    "\n",
    "- Reduzir a resolução do campo visual, tornando Waldo mais \"visível\" ao modelo.\n",
    "\n",
    "- Incluir exemplos negativos (janelas sem Waldo), fundamentais para o modelo aprender o que não é o personagem.\n",
    "\n",
    "Critério para inclusão de rótulos nas janelas:\n",
    "Para que uma bounding box fosse incluída no recorte, ela precisava atender aos seguintes critérios:\n",
    "\n",
    "- O centro da bounding box deveria estar contido dentro da janela.\n",
    "\n",
    "- Pelo menos 30% da área da bounding box precisava estar visível dentro da janela.\n",
    "\n",
    "Quando essas condições eram satisfeitas, o rótulo correspondente era mantido e ajustado: as coordenadas e dimensões da bounding box eram transformadas em relação à nova janela recortada.\n",
    "\n",
    "Esse processo automatizado resultou em centenas de amostras adicionais, balanceando exemplos com e sem o Waldo, e ampliando significativamente a capacidade de aprendizado do modelo."
   ]
  }
 ],
 "metadata": {
  "language_info": {
   "name": "python"
  }
 },
 "nbformat": 4,
 "nbformat_minor": 5
}
